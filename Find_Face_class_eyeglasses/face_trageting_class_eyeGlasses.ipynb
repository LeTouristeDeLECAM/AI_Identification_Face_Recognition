{
 "cells": [
  {
   "cell_type": "code",
   "execution_count": 91,
   "metadata": {},
   "outputs": [],
   "source": [
    "# import the necessary packages\n",
    "from ultralytics import YOLO\n",
    "import cv2\n",
    "\n",
    "# from package_face_recognition import face_detection"
   ]
  },
  {
   "cell_type": "code",
   "execution_count": 92,
   "metadata": {},
   "outputs": [],
   "source": [
    "# import model\n",
    "model = YOLO(\"../Transfert_learning_YOLO/Classification/runs/classify/train2/weights/best.pt\")\n",
    "\n",
    "# load the input image\n",
    "# image = cv2.imread('../Images/face_recognition.jpg')\n",
    "# image = cv2.imread('../training_data/Elise/IMG_20220320_182947.jpg')\n",
    "# image = cv2.imread('../training_data/Matthias/IMG_20221104_222920.jpg')\n",
    "# image = cv2.imread('../training_data/Matthias/IMG_20220622_171433.jpg')\n",
    "# image = cv2.imread('../training_data/Matthias/IMG_20230422_180735.jpg')\n",
    "# image = cv2.imread('../Images/7154980@N03_identity_0@2858989702_0.jpg')\n",
    "image = cv2.imread('../training_data/Matthias/IMG_20221001_140443.jpg')\n",
    "\n",
    "# image = cv2.imread('../Images/th-1205605834.jpg')\n",
    "# image = cv2.imread('../Images/th-1523916246.jpg')\n"
   ]
  },
  {
   "cell_type": "code",
   "execution_count": 93,
   "metadata": {},
   "outputs": [],
   "source": [
    "image_gray = cv2.cvtColor(image, cv2.COLOR_BGR2GRAY)\n",
    "haar_classifier = cv2.CascadeClassifier('../Library/haarcascade_frontalface_default.xml')\n",
    "    \n",
    "face = haar_classifier.detectMultiScale(image_gray, scaleFactor=1.3, minNeighbors=7)"
   ]
  },
  {
   "cell_type": "code",
   "execution_count": 94,
   "metadata": {},
   "outputs": [
    {
     "name": "stdout",
     "output_type": "stream",
     "text": [
      "[1658  967  785  785]\n",
      "1658 967 785 785\n"
     ]
    }
   ],
   "source": [
    "print (face[0])\n",
    "(x,y,w,h) = face[0]\n",
    "print(x,y,w,h)"
   ]
  },
  {
   "cell_type": "code",
   "execution_count": 95,
   "metadata": {},
   "outputs": [
    {
     "data": {
      "text/plain": [
       "True"
      ]
     },
     "execution_count": 95,
     "metadata": {},
     "output_type": "execute_result"
    }
   ],
   "source": [
    "# coppr the face\n",
    "face_crop = image[y:y+h, x:x+w]\n",
    "cv2.imshow('face_crop', face_crop)\n",
    "cv2.waitKey(0)\n",
    "cv2.destroyAllWindows()\n",
    "\n",
    "# save the face\n",
    "cv2.imwrite('../Images/Result/face_crop.jpg', face_crop)"
   ]
  },
  {
   "cell_type": "markdown",
   "metadata": {},
   "source": [
    "results = model('../Images/Result/face_crop.jpg')"
   ]
  },
  {
   "cell_type": "code",
   "execution_count": 96,
   "metadata": {},
   "outputs": [
    {
     "name": "stderr",
     "output_type": "stream",
     "text": [
      "\n",
      "0: 640x640 EyeGlasses 0.95, NoEyeGlasses 0.05, 178.0ms\n",
      "Speed: 0.0ms preprocess, 178.0ms inference, 0.0ms postprocess per image at shape (1, 3, 640, 640)\n"
     ]
    }
   ],
   "source": [
    "# prediction \n",
    "\n",
    "results = model(face_crop)[0]\n"
   ]
  },
  {
   "cell_type": "code",
   "execution_count": 97,
   "metadata": {},
   "outputs": [
    {
     "name": "stdout",
     "output_type": "stream",
     "text": [
      "Eye glasses probability:  0.95\n",
      "No eye glasses probability:  0.05\n"
     ]
    }
   ],
   "source": [
    "data_list = results.probs.data.tolist()\n",
    "eyeGlasses_Prob = round(data_list[0], 2)\n",
    "noEyeGlasses_Prob = round(data_list[1], 2)\n",
    "print(\"Eye glasses probability: \", eyeGlasses_Prob)\n",
    "print(\"No eye glasses probability: \", noEyeGlasses_Prob)\n"
   ]
  },
  {
   "cell_type": "code",
   "execution_count": null,
   "metadata": {},
   "outputs": [],
   "source": []
  },
  {
   "cell_type": "code",
   "execution_count": null,
   "metadata": {},
   "outputs": [],
   "source": []
  }
 ],
 "metadata": {
  "kernelspec": {
   "display_name": "venvFaceRecognition",
   "language": "python",
   "name": "python3"
  },
  "language_info": {
   "codemirror_mode": {
    "name": "ipython",
    "version": 3
   },
   "file_extension": ".py",
   "mimetype": "text/x-python",
   "name": "python",
   "nbconvert_exporter": "python",
   "pygments_lexer": "ipython3",
   "version": "3.9.2"
  }
 },
 "nbformat": 4,
 "nbformat_minor": 2
}
