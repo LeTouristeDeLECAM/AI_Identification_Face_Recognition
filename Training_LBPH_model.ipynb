{
 "cells": [
  {
   "cell_type": "markdown",
   "metadata": {},
   "source": [
    "# Training face recognition model LBPH (local binary patterns histogram) on the dataset of faces\n",
    "this implementation is based on the following example https://iq.opengenus.org/lbph-algorithm-for-face-recognition/"
   ]
  },
  {
   "cell_type": "code",
   "execution_count": 1,
   "metadata": {},
   "outputs": [],
   "source": [
    "# Import the necessary libraries\n",
    "import numpy as np\n",
    "import cv2\n",
    "import cv2.face\n",
    "import os\n",
    "import Library.package_face_recognition as fr\n"
   ]
  },
  {
   "cell_type": "code",
   "execution_count": 2,
   "metadata": {},
   "outputs": [],
   "source": [
    "train_path = 'training_data'\n",
    "\n",
    "# create a dictionary that maps the name of a folder to an integer label\n",
    "label_dict = {}\n",
    "for i, folder_name in enumerate(os.listdir(train_path)):\n",
    "    label_dict[folder_name] = i"
   ]
  },
  {
   "cell_type": "code",
   "execution_count": 3,
   "metadata": {},
   "outputs": [
    {
     "name": "stdout",
     "output_type": "stream",
     "text": [
      "{'Elise': 0, 'Matthias': 1}\n",
      "['Elise', 'Matthias']\n",
      "[0, 1]\n"
     ]
    }
   ],
   "source": [
    "print (label_dict)\n",
    "print (list(label_dict.keys()))\n",
    "print (list(label_dict.values()))"
   ]
  },
  {
   "cell_type": "markdown",
   "metadata": {},
   "source": [
    "### Face detection and data preparation"
   ]
  },
  {
   "cell_type": "code",
   "execution_count": 4,
   "metadata": {},
   "outputs": [],
   "source": [
    "def prepare_data(data_path):\n",
    "    folders = os.listdir(data_path)\n",
    "    labels = []\n",
    "    faces = []\n",
    "    for folder in folders:\n",
    "        print (folder)\n",
    "        \n",
    "        # find the corresponding integer label for the folder name\n",
    "        for name, label in label_dict.items():\n",
    "            if name == folder:\n",
    "                break\n",
    "        print(label)\n",
    "\n",
    "        training_images_path = data_path + '/' + folder\n",
    "        for image in os.listdir(training_images_path):\n",
    "            image_path = training_images_path + '/' + image\n",
    "            training_image = cv2.imread(image_path)\n",
    "            # print (image_path)\n",
    "            face, bounding_box = fr.face_detection(training_image)\n",
    "            faces.append(face)\n",
    "            labels.append(label)        \n",
    "\n",
    "    print ('Face detection Done')\n",
    "    return faces, labels"
   ]
  },
  {
   "cell_type": "code",
   "execution_count": 5,
   "metadata": {},
   "outputs": [
    {
     "name": "stdout",
     "output_type": "stream",
     "text": [
      "Elise\n",
      "0\n"
     ]
    },
    {
     "name": "stdout",
     "output_type": "stream",
     "text": [
      "Matthias\n",
      "1\n",
      "Face detection Done\n",
      "Total faces =  25\n",
      "Total labels =  25\n"
     ]
    }
   ],
   "source": [
    "faces, labels = prepare_data(train_path)\n",
    "print ('Total faces = ', len(faces))\n",
    "print ('Total labels = ', len(labels))"
   ]
  },
  {
   "cell_type": "markdown",
   "metadata": {},
   "source": [
    "### Train LBPH model on the dataset of faces"
   ]
  },
  {
   "cell_type": "code",
   "execution_count": 6,
   "metadata": {},
   "outputs": [],
   "source": [
    "# Extract face features\n",
    "model_lbph = cv2.face.LBPHFaceRecognizer_create()\n",
    "model_lbph.train(faces, np.array(labels))"
   ]
  },
  {
   "cell_type": "markdown",
   "metadata": {},
   "source": [
    "### Extract model"
   ]
  },
  {
   "cell_type": "code",
   "execution_count": 7,
   "metadata": {},
   "outputs": [],
   "source": [
    "# Extract the model\n",
    "model_lbph.write('Library/model_lbph.yml')\n",
    "\n",
    "# export the label dictionary\n",
    "np.save('Library/label_dict.npy', label_dict)"
   ]
  }
 ],
 "metadata": {
  "kernelspec": {
   "display_name": "Python 3",
   "language": "python",
   "name": "python3"
  },
  "language_info": {
   "codemirror_mode": {
    "name": "ipython",
    "version": 3
   },
   "file_extension": ".py",
   "mimetype": "text/x-python",
   "name": "python",
   "nbconvert_exporter": "python",
   "pygments_lexer": "ipython3",
   "version": "3.7.11"
  }
 },
 "nbformat": 4,
 "nbformat_minor": 2
}
